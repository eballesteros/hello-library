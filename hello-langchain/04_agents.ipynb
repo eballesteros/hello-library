{
 "cells": [
  {
   "cell_type": "markdown",
   "metadata": {},
   "source": [
    "following https://github.com/gkamradt/langchain-tutorials/blob/main/agents/Agents.ipynb"
   ]
  },
  {
   "cell_type": "code",
   "execution_count": 5,
   "metadata": {},
   "outputs": [],
   "source": [
    "# load .env\n",
    "import os\n",
    "from dotenv import load_dotenv\n",
    "\n",
    "load_dotenv()\n",
    "\n",
    "# check HF token and SERPAPI key have been loaded\n",
    "assert \"OPENAI_API_KEY\" in os.environ\n",
    "assert \"SERPAPI_API_KEY\" in os.environ\n",
    "assert \"WOLFRAM_ALPHA_APPID\" in os.environ"
   ]
  },
  {
   "cell_type": "code",
   "execution_count": 2,
   "metadata": {},
   "outputs": [],
   "source": [
    "from langchain.agents import load_tools\n",
    "from langchain.agents import initialize_agent\n",
    "from langchain.llms import OpenAI"
   ]
  },
  {
   "cell_type": "markdown",
   "metadata": {},
   "source": [
    "## Tools"
   ]
  },
  {
   "attachments": {},
   "cell_type": "markdown",
   "metadata": {},
   "source": [
    "### Serp API"
   ]
  },
  {
   "cell_type": "code",
   "execution_count": 3,
   "metadata": {},
   "outputs": [],
   "source": [
    "# get llm\n",
    "llm = OpenAI(temperature=0)\n",
    "\n",
    "# init tools\n",
    "tool_names = [\"serpapi\"]\n",
    "tools = load_tools(tool_names)\n",
    "\n",
    "# init agent \n",
    "agent = initialize_agent(tools, llm, agent=\"zero-shot-react-description\", verbose=True)"
   ]
  },
  {
   "cell_type": "code",
   "execution_count": 4,
   "metadata": {},
   "outputs": [
    {
     "name": "stdout",
     "output_type": "stream",
     "text": [
      "\n",
      "\n",
      "\u001b[1m> Entering new AgentExecutor chain...\u001b[0m\n",
      "\u001b[32;1m\u001b[1;3m I need to find out who is currently in the Champions League\n",
      "Action: Search\n",
      "Action Input: \"2023 Champions League semi-finals\"\u001b[0m\n",
      "Observation: \u001b[36;1m\u001b[1;3mThe semifinals are set to start beginning on Tuesday, May 9. MORE: Champions League prize money breakdown 2022/2023. Semifinals. The first team hosts the first ...\u001b[0m\n",
      "Thought:\u001b[32;1m\u001b[1;3m I need to find out which teams are in the Champions League\n",
      "Action: Search\n",
      "Action Input: \"2022/2023 Champions League teams\"\u001b[0m\n",
      "Observation: \u001b[36;1m\u001b[1;3mNo good search result found\u001b[0m\n",
      "Thought:\u001b[32;1m\u001b[1;3m I need to find out which teams qualified for the Champions League\n",
      "Action: Search\n",
      "Action Input: \"2022/2023 Champions League qualifiers\"\u001b[0m\n",
      "Observation: \u001b[36;1m\u001b[1;3mQualifying: 21 June – 24 August 2022. Competition proper: 6 September 2022 – 10 June 2023 · Competition proper: 32. Total: 78 (from 53 associations) · 120.\u001b[0m\n",
      "Thought:\u001b[32;1m\u001b[1;3m I need to find out which teams qualified for the Champions League semi-finals\n",
      "Action: Search\n",
      "Action Input: \"2022/2023 Champions League semi-finals qualifiers\"\u001b[0m\n",
      "Observation: \u001b[36;1m\u001b[1;3mReal Madrid and AC Milan have progressed to the Champions League semi-finals after overcoming Chelsea and Napoli, respectively.\u001b[0m\n",
      "Thought:\u001b[32;1m\u001b[1;3m I now know the final answer\n",
      "Final Answer: Real Madrid and AC Milan have qualified for the 2023 Champions League semi-finals.\u001b[0m\n",
      "\n",
      "\u001b[1m> Finished chain.\u001b[0m\n"
     ]
    },
    {
     "data": {
      "text/plain": [
       "'Real Madrid and AC Milan have qualified for the 2023 Champions League semi-finals.'"
      ]
     },
     "execution_count": 4,
     "metadata": {},
     "output_type": "execute_result"
    }
   ],
   "source": [
    "agent.run(\"Who will be in the 2023 Champions League semi-finals?\")"
   ]
  },
  {
   "attachments": {},
   "cell_type": "markdown",
   "metadata": {},
   "source": [
    "that's pretty good. That's half the answer (the 2 teams that qualifies the day before yesterday), and the search results were not terribly helpful. M.City and Inter Milan also advanced yesterday."
   ]
  },
  {
   "cell_type": "markdown",
   "metadata": {},
   "source": [
    "### Wolfram Alpha"
   ]
  },
  {
   "cell_type": "code",
   "execution_count": 7,
   "metadata": {},
   "outputs": [],
   "source": [
    "llm = OpenAI(temperature=0)\n",
    "\n",
    "tool_names = [\"wolfram-alpha\", \"serpapi\"]\n",
    "tools = load_tools(tool_names)\n",
    "\n",
    "agent = initialize_agent(tools, llm, agent=\"zero-shot-react-description\", verbose=True)"
   ]
  },
  {
   "cell_type": "code",
   "execution_count": 8,
   "metadata": {},
   "outputs": [
    {
     "name": "stdout",
     "output_type": "stream",
     "text": [
      "\n",
      "\n",
      "\u001b[1m> Entering new AgentExecutor chain...\u001b[0m\n",
      "\u001b[32;1m\u001b[1;3m I need to find the area of a curved path\n",
      "Action: Wolfram Alpha\n",
      "Action Input: area of curved path\u001b[0m\n",
      "Observation: \u001b[36;1m\u001b[1;3mWolfram Alpha wasn't able to answer it\u001b[0m\n",
      "Thought:\u001b[32;1m\u001b[1;3m I need to find the circumference of the Earth's orbit\n",
      "Action: Wolfram Alpha\n",
      "Action Input: circumference of Earth's orbit\u001b[0m\n",
      "Observation: \u001b[36;1m\u001b[1;3mAssumption: Earth | orbit circumference \n",
      "Answer: 9.399×10^8 km (kilometers)\u001b[0m\n",
      "Thought:\u001b[32;1m\u001b[1;3m I need to calculate the area of a circle with this circumference\n",
      "Action: Wolfram Alpha\n",
      "Action Input: area of circle with circumference 9.399×10^8 km\u001b[0m\n",
      "Observation: \u001b[36;1m\u001b[1;3mAssumption: circle | circumference 9.399×10^8 km (kilometers) | area enclosed \n",
      "Answer: 7.03×10^16 km^2 (square kilometers)\u001b[0m\n",
      "Thought:\u001b[32;1m\u001b[1;3m I now know the final answer\n",
      "Final Answer: The area of the curve the Earth describes when orbiting around the Sun is 7.03×10^16 km^2 (square kilometers).\u001b[0m\n",
      "\n",
      "\u001b[1m> Finished chain.\u001b[0m\n"
     ]
    },
    {
     "data": {
      "text/plain": [
       "'The area of the curve the Earth describes when orbiting around the Sun is 7.03×10^16 km^2 (square kilometers).'"
      ]
     },
     "execution_count": 8,
     "metadata": {},
     "output_type": "execute_result"
    }
   ],
   "source": [
    "agent.run(\"What is the area of the curve the Earth describes when orbiting around the Sun?\")"
   ]
  },
  {
   "attachments": {},
   "cell_type": "markdown",
   "metadata": {},
   "source": [
    "that's an interesting way of getting the result. The order of magnitude looks correct. But I wanted it to use the elliptical orbit. Lets try again:"
   ]
  },
  {
   "cell_type": "code",
   "execution_count": 10,
   "metadata": {},
   "outputs": [
    {
     "name": "stdout",
     "output_type": "stream",
     "text": [
      "\n",
      "\n",
      "\u001b[1m> Entering new AgentExecutor chain...\u001b[0m\n",
      "\u001b[32;1m\u001b[1;3m I need to find the area of an ellipse given its eccentricity.\n",
      "Action: Wolfram Alpha\n",
      "Action Input: Area of an ellipse given its eccentricity\u001b[0m\n",
      "Observation: \u001b[36;1m\u001b[1;3mWolfram Alpha wasn't able to answer it\u001b[0m\n",
      "Thought:\u001b[32;1m\u001b[1;3m I need to find the area of an ellipse given its major and minor axes\n",
      "Action: Wolfram Alpha\n",
      "Action Input: Area of an ellipse given its major and minor axes\u001b[0m\n",
      "Observation: \u001b[36;1m\u001b[1;3mWolfram Alpha wasn't able to answer it\u001b[0m\n",
      "Thought:\u001b[32;1m\u001b[1;3m I need to find the major and minor axes of an ellipse given its eccentricity\n",
      "Action: Wolfram Alpha\n",
      "Action Input: Major and minor axes of an ellipse given its eccentricity\u001b[0m\n",
      "Observation: \u001b[36;1m\u001b[1;3mWolfram Alpha wasn't able to answer it\u001b[0m\n",
      "Thought:\u001b[32;1m\u001b[1;3m I need to find the eccentricity of Earth's orbit around the Sun\n",
      "Action: Search\n",
      "Action Input: Eccentricity of Earth's orbit around the Sun\u001b[0m\n",
      "Observation: \u001b[33;1m\u001b[1;3mabout 0.0167\u001b[0m\n",
      "Thought:\u001b[32;1m\u001b[1;3m I need to find the area of an ellipse given its major and minor axes\n",
      "Action: Wolfram Alpha\n",
      "Action Input: Area of an ellipse given its major and minor axes\u001b[0m\n",
      "Observation: \u001b[36;1m\u001b[1;3mWolfram Alpha wasn't able to answer it\u001b[0m\n",
      "Thought:\u001b[32;1m\u001b[1;3m I need to calculate the area of an ellipse given its major and minor axes\n",
      "Action: Calculate\n",
      "Action Input: Area of an ellipse given its major and minor axes\u001b[0m\n",
      "Observation: Calculate is not a valid tool, try another one.\n",
      "Thought:\u001b[32;1m\u001b[1;3m I need to find the major and minor axes of an ellipse given its eccentricity\n",
      "Action: Wolfram Alpha\n",
      "Action Input: Major and minor axes of an ellipse given its eccentricity\u001b[0m\n",
      "Observation: \u001b[36;1m\u001b[1;3mWolfram Alpha wasn't able to answer it\u001b[0m\n",
      "Thought:\u001b[32;1m\u001b[1;3m I need to calculate the major and minor axes of an ellipse given its eccentricity\n",
      "Action: Calculate\n",
      "Action Input: Major and minor axes of an ellipse given its eccentricity\u001b[0m\n",
      "Observation: Calculate is not a valid tool, try another one.\n",
      "Thought:\u001b[32;1m\u001b[1;3m I need to find the major and minor axes of an ellipse given its eccentricity\n",
      "Action: Search\n",
      "Action Input: Major and minor axes of an ellipse given its eccentricity\u001b[0m\n",
      "Observation: \u001b[33;1m\u001b[1;3mThe major and minor axes of the ellipse perpendicularly bisect each other. The length of the major axis is equal to 2a, whereas the length of the minor axis is ...\u001b[0m\n",
      "Thought:\u001b[32;1m\u001b[1;3m I now know the major and minor axes of an ellipse given its eccentricity\n",
      "Thought: I need to calculate the area of an ellipse given its major and minor axes\n",
      "Action: Calculate\n",
      "Action Input: Area of an ellipse given its major and minor axes\u001b[0m\n",
      "Observation: Calculate is not a valid tool, try another one.\n",
      "Thought:\u001b[32;1m\u001b[1;3m I need to find the area of an ellipse given its major and minor axes\n",
      "Action: Wolfram Alpha\n",
      "Action Input: Area of an ellipse given its major and minor axes\u001b[0m\n",
      "Observation: \u001b[36;1m\u001b[1;3mWolfram Alpha wasn't able to answer it\u001b[0m\n",
      "Thought:\u001b[32;1m\u001b[1;3m I need to calculate the area of an ellipse given its major and minor axes\n",
      "Action: Calculate\n",
      "Action Input: Area of an ellipse given its major and minor axes\u001b[0m\n",
      "Observation: Calculate is not a valid tool, try another one.\n",
      "Thought:\u001b[32;1m\u001b[1;3m I need to find a formula for the area of an ellipse given its major and minor axes\n",
      "Action: Search\n",
      "Action Input: Formula for the area of an ellipse given its major and minor axes\u001b[0m"
     ]
    },
    {
     "ename": "KeyboardInterrupt",
     "evalue": "",
     "output_type": "error",
     "traceback": [
     ]
    }
   ],
   "source": [
    "agent.run(\"Taking into account the eccentricity, what is the area of Earth's orbit around the Sun?\")"
   ]
  },
  {
   "attachments": {},
   "cell_type": "markdown",
   "metadata": {},
   "source": [
    "I interrupted it before it burns through my free API calls.\n",
    "\n",
    "Lets try it once more dividing the question in 2."
   ]
  },
  {
   "cell_type": "code",
   "execution_count": 12,
   "metadata": {},
   "outputs": [
    {
     "name": "stdout",
     "output_type": "stream",
     "text": [
      "\n",
      "\n",
      "\u001b[1m> Entering new AgentExecutor chain...\u001b[0m\n",
      "\u001b[32;1m\u001b[1;3m I need to find out the shape and area of Earth's orbit.\n",
      "Action: Wolfram Alpha\n",
      "Action Input: Shape and area of Earth's orbit\u001b[0m\n",
      "Observation: \u001b[36;1m\u001b[1;3mAssumption: Earth | shape | Earth | surface area | Earth | orbital properties \n",
      "Answer: shape | oblate spheroid (ignoring surface features)\n",
      "surface area | 5.1007×10^8 km^2 (square kilometers)\u001b[0m\n",
      "Thought:\u001b[32;1m\u001b[1;3m I now know the final answer\n",
      "Final Answer: The shape of Earth's orbit is an oblate spheroid and the area is 5.1007×10^8 km^2 (square kilometers).\u001b[0m\n",
      "\n",
      "\u001b[1m> Finished chain.\u001b[0m\n"
     ]
    },
    {
     "data": {
      "text/plain": [
       "\"The shape of Earth's orbit is an oblate spheroid and the area is 5.1007×10^8 km^2 (square kilometers).\""
      ]
     },
     "execution_count": 12,
     "metadata": {},
     "output_type": "execute_result"
    }
   ],
   "source": [
    "agent.run(\"What is the shape of Earth's orbit? What is the area of Earth's orbit?\")"
   ]
  },
  {
   "attachments": {},
   "cell_type": "markdown",
   "metadata": {},
   "source": [
    "This looks like it's off by 8 orders of magnitude."
   ]
  }
 ],
 "metadata": {
  "kernelspec": {
   "display_name": ".venv",
   "language": "python",
   "name": "python3"
  },
  "language_info": {
   "codemirror_mode": {
    "name": "ipython",
    "version": 3
   },
   "file_extension": ".py",
   "mimetype": "text/x-python",
   "name": "python",
   "nbconvert_exporter": "python",
   "pygments_lexer": "ipython3",
   "version": "3.11.2"
  },
  "orig_nbformat": 4
 },
 "nbformat": 4,
 "nbformat_minor": 2
}
